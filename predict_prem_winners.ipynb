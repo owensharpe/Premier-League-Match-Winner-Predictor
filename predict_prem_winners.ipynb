{
 "cells": [
  {
   "cell_type": "markdown",
   "source": [
    "## Predicting Match Winners in the Premier League Using Scraped Data"
   ],
   "metadata": {
    "collapsed": false
   },
   "id": "ea62b605c2228928"
  },
  {
   "cell_type": "code",
   "execution_count": null,
   "outputs": [],
   "source": [
    "# Import Libraries\n",
    "import pandas as pd\n",
    "from sklearn.ensemble import RandomForestClassifier\n",
    "from sklearn.metrics import accuracy_score\n",
    "from sklearn.metrics import precision_score"
   ],
   "metadata": {
    "collapsed": false
   },
   "id": "846a017fcf43fa9f"
  },
  {
   "cell_type": "markdown",
   "source": [
    "#### Read in Data"
   ],
   "metadata": {
    "collapsed": false
   },
   "id": "c9869655b5de3d55"
  },
  {
   "cell_type": "code",
   "execution_count": null,
   "outputs": [],
   "source": [
    "matches = pd.read_csv(\"prem_matches.csv\", index_col=0)"
   ],
   "metadata": {
    "collapsed": false
   },
   "id": "a241bdcc7859b3f7"
  },
  {
   "cell_type": "markdown",
   "source": [
    "#### Coding Safety Checks"
   ],
   "metadata": {
    "collapsed": false
   },
   "id": "da82502a0edd9aa8"
  },
  {
   "cell_type": "code",
   "execution_count": null,
   "outputs": [],
   "source": [
    "# round values\n",
    "matches[\"round\"].value_counts()\n",
    "\n",
    "# delete comp and notes columns\n",
    "del matches[\"comp\"]\n",
    "del matches[\"notes\"]\n",
    "\n",
    "# create datetime column and target as int\n",
    "matches[\"date\"] = pd.to_datetime(matches[\"date\"])\n",
    "matches[\"target\"] = (matches[\"result\"] == \"W\").astype(\"int\")\n",
    "\n",
    "# make sure codes are correct\n",
    "matches[\"venue_code\"] = matches[\"venue\"].astype(\"category\").cat.codes\n",
    "matches[\"opp_code\"] = matches[\"opponent\"].astype(\"category\").cat.codes\n",
    "matches[\"hour\"] = matches[\"time\"].str.replace(\":.+\", \"\", regex=True).astype(\"int\")\n",
    "matches[\"day_code\"] = matches[\"date\"].dt.dayofweek\n"
   ],
   "metadata": {
    "collapsed": false
   },
   "id": "98f900d7a660cf37"
  },
  {
   "cell_type": "markdown",
   "source": [
    "#### Start Machine Learning"
   ],
   "metadata": {
    "collapsed": false
   },
   "id": "d2d823423c4141f1"
  },
  {
   "cell_type": "code",
   "execution_count": null,
   "outputs": [],
   "source": [
    "# instantiate predictor\n",
    "rf = RandomForestClassifier(n_estimators=50, min_samples_split=10, random_state=1)\n",
    "\n",
    "# train and test\n",
    "train = matches[matches[\"date\"] < '2023-09-01']\n",
    "test = matches[matches[\"date\"] > '2023-09-01']\n",
    "\n",
    "# fit the model\n",
    "predictors = [\"venue_code\", \"opp_code\", \"hour\", \"day_code\"]\n",
    "rf.fit(train[predictors], train[\"target\"])"
   ],
   "metadata": {
    "collapsed": false
   },
   "id": "f9e6cb074597ff2f"
  },
  {
   "cell_type": "markdown",
   "source": [
    "#### Look at Error"
   ],
   "metadata": {
    "collapsed": false
   },
   "id": "dc40228fa0660269"
  },
  {
   "cell_type": "code",
   "execution_count": null,
   "outputs": [],
   "source": [
    "# check error\n",
    "preds = rf.predict(test[predictors])\n",
    "error = accuracy_score(test[\"target\"], preds)"
   ],
   "metadata": {
    "collapsed": false
   },
   "id": "adb5b79b1a19c215"
  },
  {
   "cell_type": "code",
   "execution_count": null,
   "outputs": [],
   "source": [
    "# look at metric\n",
    "combined = pd.DataFrame(dict(actual=test[\"target\"], predicted=preds))\n",
    "pd.crosstab(index=combined[\"actual\"], columns=combined[\"predicted\"])"
   ],
   "metadata": {
    "collapsed": false
   },
   "id": "ba18639fb9da1d8d"
  },
  {
   "cell_type": "markdown",
   "source": [
    "#### Check Precision Score"
   ],
   "metadata": {
    "collapsed": false
   },
   "id": "e2f9f31c1b7e485e"
  },
  {
   "cell_type": "code",
   "execution_count": null,
   "outputs": [],
   "source": [
    "precision_score(test[\"target\"], preds)"
   ],
   "metadata": {
    "collapsed": false
   },
   "id": "d71b4d0d3c60f7a"
  },
  {
   "cell_type": "markdown",
   "source": [
    "#### Create Grouped Matches"
   ],
   "metadata": {
    "collapsed": false
   },
   "id": "a618a2eb9955f6b2"
  },
  {
   "cell_type": "code",
   "execution_count": null,
   "outputs": [],
   "source": [
    "grouped_matches = matches.groupby(\"team\")\n",
    "group = grouped_matches.get_group(\"Manchester City\").sort_values(\"date\")"
   ],
   "metadata": {
    "collapsed": false
   },
   "id": "7c2b35cc3e896d5d"
  },
  {
   "cell_type": "markdown",
   "source": [
    "#### Create Rolling Average Function"
   ],
   "metadata": {
    "collapsed": false
   },
   "id": "f97f78c27e97d9c9"
  },
  {
   "cell_type": "code",
   "execution_count": null,
   "outputs": [],
   "source": [
    "# create rolling averages and assign them\n",
    "def rolling_averages(group, cols, new_cols):\n",
    "    group = group.sort_values(\"date\")\n",
    "    rolling_stats = group[cols].rolling(3, closed='left').mean()\n",
    "    group[new_cols] = rolling_stats\n",
    "    group = group.dropna(subset=new_cols)\n",
    "    return group\n",
    "\n",
    "# create columns\n",
    "cols = [\"gf\", \"ga\", \"sh\", \"sot\", \"dist\", \"fk\", \"pk\", \"pkatt\"]\n",
    "new_cols = [f\"{c}_rolling\" for c in cols]\n",
    "\n",
    "rolling_averages(group, cols, new_cols)"
   ],
   "metadata": {
    "collapsed": false
   },
   "id": "e01beba9dde7c53c"
  },
  {
   "cell_type": "markdown",
   "source": [
    "#### Create Rolling Match Averages"
   ],
   "metadata": {
    "collapsed": false
   },
   "id": "3c1796213f0fd853"
  },
  {
   "cell_type": "code",
   "execution_count": null,
   "outputs": [],
   "source": [
    "matches_rolling = matches.groupby(\"team\").apply(lambda x: rolling_averages(x, cols, new_cols))\n",
    "matches_rolling = matches_rolling.droplevel('team')\n",
    "matches_rolling.index = range(matches_rolling.shape[0])"
   ],
   "metadata": {
    "collapsed": false
   },
   "id": "e664d665a7d73a6b"
  },
  {
   "cell_type": "markdown",
   "source": [
    "#### Create a Make Prediction Function"
   ],
   "metadata": {
    "collapsed": false
   },
   "id": "2a8142dab7ce2fee"
  },
  {
   "cell_type": "code",
   "execution_count": null,
   "outputs": [],
   "source": [
    "def make_predictions(data, predictors):\n",
    "    train = data[data[\"date\"] < '2022-01-01']\n",
    "    test = data[data[\"date\"] > '2022-01-01']\n",
    "    rf.fit(train[predictors], train[\"target\"])\n",
    "    preds = rf.predict(test[predictors])\n",
    "    combined = pd.DataFrame(dict(actual=test[\"target\"], predicted=preds), index=test.index)\n",
    "    error = precision_score(test[\"target\"], preds)\n",
    "    return combined, error"
   ],
   "metadata": {
    "collapsed": false
   },
   "id": "4ed2fe6dba14e3c6"
  },
  {
   "cell_type": "markdown",
   "source": [
    "#### Check Error"
   ],
   "metadata": {
    "collapsed": false
   },
   "id": "537bcbed916c229c"
  },
  {
   "cell_type": "code",
   "execution_count": null,
   "outputs": [],
   "source": [
    "combined, error = make_predictions(matches_rolling, predictors + new_cols)\n",
    "combined = combined.merge(matches_rolling[[\"date\", \"team\", \"opponent\", \"result\"]], left_index=True, right_index=True)"
   ],
   "metadata": {
    "collapsed": false
   },
   "id": "5821a4a752b3ae37"
  },
  {
   "cell_type": "markdown",
   "source": [
    "#### Adjust Some Names"
   ],
   "metadata": {
    "collapsed": false
   },
   "id": "42690227bfa59862"
  },
  {
   "cell_type": "code",
   "execution_count": null,
   "outputs": [],
   "source": [
    "class MissingDict(dict):\n",
    "    __missing__ = lambda self, key: key\n",
    "\n",
    "map_values = {\"Brighton and Hove Albion\": \"Brighton\", \"Manchester United\": \"Manchester Utd\", \"Newcastle United\": \"Newcastle Utd\", \"Tottenham Hotspur\": \"Tottenham\", \"West Ham United\": \"West Ham\", \"Wolverhampton Wanderers\": \"Wolves\"} \n",
    "mapping = MissingDict(**map_values)\n",
    "\n",
    "combined[\"new_team\"] = combined[\"team\"].map(mapping)\n",
    "merged = combined.merge(combined, left_on=[\"date\", \"new_team\"], right_on=[\"date\", \"opponent\"])"
   ],
   "metadata": {
    "collapsed": false
   },
   "id": "59c2bc4b883a6246"
  },
  {
   "cell_type": "markdown",
   "source": [
    "#### Finally, Have Predictions"
   ],
   "metadata": {
    "collapsed": false
   },
   "id": "bdadc70f8f4f81b9"
  },
  {
   "cell_type": "code",
   "execution_count": null,
   "outputs": [],
   "source": [
    "merged[(merged[\"predicted_x\"] == 1) & (merged[\"predicted_y\"] ==0)][\"actual_x\"].value_counts()"
   ],
   "metadata": {
    "collapsed": false
   },
   "id": "addddf10438802a2"
  }
 ],
 "metadata": {
  "kernelspec": {
   "display_name": "Python 3",
   "language": "python",
   "name": "python3"
  },
  "language_info": {
   "codemirror_mode": {
    "name": "ipython",
    "version": 2
   },
   "file_extension": ".py",
   "mimetype": "text/x-python",
   "name": "python",
   "nbconvert_exporter": "python",
   "pygments_lexer": "ipython2",
   "version": "2.7.6"
  }
 },
 "nbformat": 4,
 "nbformat_minor": 5
}
